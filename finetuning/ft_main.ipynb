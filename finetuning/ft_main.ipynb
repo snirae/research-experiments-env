{
 "cells": [
  {
   "cell_type": "markdown",
   "metadata": {},
   "source": [
    "# Dataset Creation From CSV"
   ]
  },
  {
   "cell_type": "code",
   "execution_count": 1,
   "metadata": {},
   "outputs": [
    {
     "name": "stdout",
     "output_type": "stream",
     "text": [
      "Saving the dataset (1/1 shards): 100%|████| 7/7 [00:00<00:00, 120.93 examples/s]\n",
      "Saving the dataset (1/1 shards): 100%|████| 7/7 [00:00<00:00, 325.38 examples/s]\n"
     ]
    }
   ],
   "source": [
    "!python -m uni2ts.data.builder.simple ETTh1 ./csvs/ETTh1.csv --dataset_type wide --date_offset '2017-10-23 23:00:00'"
   ]
  },
  {
   "cell_type": "markdown",
   "metadata": {},
   "source": [
    "# Edit the Config Files"
   ]
  },
  {
   "cell_type": "code",
   "execution_count": 2,
   "metadata": {},
   "outputs": [],
   "source": [
    "import yaml\n",
    "\n",
    "\n",
    "config_path = './conf/finetune/default.yaml'\n",
    "\n",
    "model_name = 'moirai_1.0_R_small'\n",
    "data_name = 'etth1'\n",
    "val_data_name = 'etth1'\n",
    "run_name = 'test-01'\n",
    "\n",
    "with open(config_path, 'r') as f:\n",
    "    config = yaml.load(f, Loader=yaml.FullLoader)\n",
    "\n",
    "# config['model']['name'] = model_name\n",
    "\n",
    "config['defaults'][0]['model'] = model_name\n",
    "config['defaults'][1]['data'] = data_name\n",
    "config['run_name'] = run_name\n",
    "\n",
    "with open(config_path, 'w') as f:\n",
    "    yaml.dump(config, f)"
   ]
  },
  {
   "cell_type": "markdown",
   "metadata": {},
   "source": [
    "# Hyperparameter Setting"
   ]
  },
  {
   "cell_type": "code",
   "execution_count": 3,
   "metadata": {},
   "outputs": [],
   "source": [
    "import yaml\n",
    "\n",
    "model_type = 'small'\n",
    "model_cfg_path = f'./conf/finetune/model/moirai_1.0_R_{model_type}.yaml'\n",
    "\n",
    "with open(model_cfg_path, 'r') as f:\n",
    "    model_cfg = yaml.load(f, Loader=yaml.FullLoader)\n",
    "\n",
    "# loss = 'uni2ts.loss.packed.PackedNRMSELoss'\n",
    "\n",
    "# model_cfg['loss_func']['_target_'] = loss\n",
    "# model_cfg['val_metric'][0]['_target_'] = loss\n",
    "# model_cfg['val_metric'][1]['_target_'] = loss\n",
    "\n",
    "# with open(model_cfg_path, 'w') as f:\n",
    "#     yaml.dump(model_cfg, f)"
   ]
  },
  {
   "cell_type": "markdown",
   "metadata": {},
   "source": [
    "# Finetuning"
   ]
  },
  {
   "cell_type": "code",
   "execution_count": 4,
   "metadata": {},
   "outputs": [
    {
     "name": "stdout",
     "output_type": "stream",
     "text": [
      "cfg model: {'_target_': 'uni2ts.model.moirai.MoiraiFinetune.load_from_checkpoint', 'module_kwargs': {'_target_': 'builtins.dict', 'distr_output': {'_target_': 'uni2ts.distribution.MixtureOutput', 'components': [{'_target_': 'uni2ts.distribution.StudentTOutput'}, {'_target_': 'uni2ts.distribution.NormalFixedScaleOutput'}, {'_target_': 'uni2ts.distribution.NegativeBinomialOutput'}, {'_target_': 'uni2ts.distribution.LogNormalOutput'}]}, 'd_model': 384, 'num_layers': 6, 'patch_sizes': '${as_tuple:[8, 16, 32, 64, 128]}', 'max_seq_len': 512, 'attn_dropout_p': 0.0, 'dropout_p': 0.0, 'scaling': True}, 'min_patches': 2, 'min_mask_ratio': 0.15, 'max_mask_ratio': 0.5, 'max_dim': 128, 'loss_func': {'_target_': 'uni2ts.loss.packed.PackedNLLLoss'}, 'val_metric': [{'_target_': 'uni2ts.loss.packed.PackedMSELoss'}, {'_target_': 'uni2ts.loss.packed.PackedNRMSELoss', 'normalize': 'absolute_target_squared'}], 'lr': 0.001, 'weight_decay': 0.1, 'beta1': 0.9, 'beta2': 0.98, 'num_training_steps': '${mul:${trainer.max_epochs},${train_dataloader.num_batches_per_epoch}}', 'num_warmup_steps': 0, 'checkpoint_path': {'_target_': 'huggingface_hub.hf_hub_download', 'repo_id': 'Salesforce/moirai-1.0-R-small', 'filename': 'model.ckpt'}}\n",
      "[2024-05-17 14:16:01,584][numexpr.utils][INFO] - Note: NumExpr detected 12 cores but \"NUMEXPR_MAX_THREADS\" not set, so enforcing safe limit of 8.\n",
      "[2024-05-17 14:16:01,585][numexpr.utils][INFO] - NumExpr defaulting to 8 threads.\n",
      "trainable parameters:\n",
      "trainable params: 350,208 || all params: 14,177,736 || trainable%: 2.470126400999426\n",
      "/home/liornis/.local/lib/python3.11/site-packages/lightning/fabric/plugins/environments/slurm.py:204: The `srun` command is available on your system but is not used. HINT: If your intention is to run Lightning on SLURM, prepend your python command with `srun` like so: srun python train.py ...\n",
      "GPU available: True (cuda), used: True\n",
      "TPU available: False, using: 0 TPU cores\n",
      "IPU available: False, using: 0 IPUs\n",
      "HPU available: False, using: 0 HPUs\n",
      "[2024-05-17 14:16:07,285][datasets][INFO] - PyTorch version 2.3.0 available.\n",
      "[2024-05-17 14:16:07,287][datasets][INFO] - JAX version 0.4.28 available.\n",
      "Seed set to 28\n",
      "/home/liornis/.local/lib/python3.11/site-packages/lightning/fabric/plugins/environments/slurm.py:204: The `srun` command is available on your system but is not used. HINT: If your intention is to run Lightning on SLURM, prepend your python command with `srun` like so: srun python train.py ...\n",
      "/home/liornis/.local/lib/python3.11/site-packages/lightning/pytorch/trainer/configuration_validator.py:74: You defined a `validation_step` but have no `val_dataloader`. Skipping val loop.\n",
      "LOCAL_RANK: 0 - CUDA_VISIBLE_DEVICES: [0]\n",
      "\n",
      "  | Name   | Type         | Params\n",
      "----------------------------------------\n",
      "0 | module | MoiraiModule | 14.2 M\n",
      "----------------------------------------\n",
      "350 K     Trainable params\n",
      "13.8 M    Non-trainable params\n",
      "14.2 M    Total params\n",
      "56.711    Total estimated model params size (MB)\n",
      "Epoch 0: |   | 3/? [00:01<00:00,  1.59it/s, v_num=28, train/PackedNLLLoss=2.330]/home/liornis/.local/lib/python3.11/site-packages/lightning/pytorch/callbacks/early_stopping.py:155: Early stopping conditioned on metric `val/PackedNRMSELoss` which is not available. Pass in or modify your `EarlyStopping` callback to use any of the following: `lr-AdamW/pg1`, `lr-AdamW/pg2`, `train/PackedNLLLoss`\n",
      "/home/liornis/.local/lib/python3.11/site-packages/lightning/pytorch/callbacks/model_checkpoint.py:383: `ModelCheckpoint(monitor='val/PackedNRMSELoss')` could not find the monitored key in the returned metrics: ['lr-AdamW/pg1', 'lr-AdamW/pg2', 'train/PackedNLLLoss', 'epoch', 'step']. HINT: Did you call `log('val/PackedNRMSELoss', value)` in the `LightningModule`?\n",
      "`Trainer.fit` stopped: `max_epochs=1` reached.\n",
      "Epoch 0: |   | 3/? [00:01<00:00,  1.58it/s, v_num=28, train/PackedNLLLoss=2.330]\n",
      "Error executing job with overrides: []\n",
      "Traceback (most recent call last):\n",
      "  File \"/sise/home/liornis/thesis/research-experiments-env/finetuning/train.py\", line 166, in main\n",
      "    torch.save(model, model_path)\n",
      "  File \"/home/liornis/.local/lib/python3.11/site-packages/torch/serialization.py\", line 628, in save\n",
      "    _save(obj, opened_zipfile, pickle_module, pickle_protocol, _disable_byteorder_record)\n",
      "  File \"/home/liornis/.local/lib/python3.11/site-packages/torch/serialization.py\", line 840, in _save\n",
      "    pickler.dump(obj)\n",
      "AttributeError: Can't pickle local object 'MixtureOutput.domain_map.<locals>.<lambda>'\n",
      "\n",
      "Set the environment variable HYDRA_FULL_ERROR=1 for a complete stack trace.\n",
      "\u001b[0m"
     ]
    }
   ],
   "source": [
    "!python train.py"
   ]
  },
  {
   "cell_type": "code",
   "execution_count": 5,
   "metadata": {},
   "outputs": [],
   "source": [
    "# from hydra.utils import instantiate\n",
    "# import hydra\n",
    "# from lora import lora_finetune\n",
    "# import pytorch_lightning as L\n",
    "\n",
    "# @hydra.main(version_base=\"1.3\", config_path='./conf/finetune', config_name=\"default.yaml\")\n",
    "# def load_model(cfg):\n",
    "#     model: L.LightningModule = instantiate(cfg.model, _convert_=\"all\")\n",
    "#     model = lora_finetune(model).get_base_model()\n",
    "#     return model\n"
   ]
  },
  {
   "cell_type": "code",
   "execution_count": 6,
   "metadata": {},
   "outputs": [],
   "source": [
    "# %tb\n",
    "# model = load_model()"
   ]
  }
 ],
 "metadata": {
  "kernelspec": {
   "display_name": "ln_env",
   "language": "python",
   "name": "python3"
  },
  "language_info": {
   "codemirror_mode": {
    "name": "ipython",
    "version": 3
   },
   "file_extension": ".py",
   "mimetype": "text/x-python",
   "name": "python",
   "nbconvert_exporter": "python",
   "pygments_lexer": "ipython3",
   "version": "3.11.7"
  }
 },
 "nbformat": 4,
 "nbformat_minor": 2
}
